{
 "cells": [
  {
   "cell_type": "code",
   "execution_count": 1,
   "metadata": {
    "collapsed": false
   },
   "outputs": [
    {
     "name": "stderr",
     "output_type": "stream",
     "text": [
      "Using TensorFlow backend.\n"
     ]
    }
   ],
   "source": [
    "from keras.preprocessing.sequence import pad_sequences\n",
    "from joblib import Parallel, delayed\n",
    "import multiprocessing\n",
    "from tqdm import tqdm\n",
    "\n",
    "#Параллельно выполняющийся map функции func по массиву massive\n",
    "def parallelization(func,massive,tq = True):\n",
    "    \n",
    "    num_cores = 20 #multiprocessing.cpu_count() # Число наших ядер\n",
    "    if tq:\n",
    "        results = np.array(Parallel(n_jobs=num_cores)(delayed(func)(i) for i in tqdm(massive)))\n",
    "        return results\n",
    "    else:\n",
    "        results = Parallel(n_jobs=num_cores)(delayed(func)(i) for i in massive)\n",
    "        return results"
   ]
  },
  {
   "cell_type": "code",
   "execution_count": 2,
   "metadata": {
    "collapsed": false
   },
   "outputs": [],
   "source": [
    "import pandas as pd\n",
    "import re\n",
    "import pymorphy2\n",
    "import numpy as np\n",
    "from collections import Counter\n",
    "\n",
    "\n",
    "morph = pymorphy2.MorphAnalyzer()\n",
    "\n",
    "def _word2canonical4w2v(word):\n",
    "    elems = morph.parse(word)\n",
    "    my_tag = ''\n",
    "    res = []\n",
    "    for elem in elems:\n",
    "            if 'VERB' in elem.tag or 'GRND' in elem.tag or 'INFN' in elem.tag:\n",
    "                    my_tag = 'V'\n",
    "            if 'NOUN' in elem.tag:\n",
    "                    my_tag = 'S'\n",
    "            normalised = elem.normalized.word\n",
    "            if my_tag == '':\n",
    "                    res.append((normalised, ''))\n",
    "            res.append((normalised, my_tag))\n",
    "    tmp = list(filter(lambda x: x[1] != '', res))\n",
    "    if len(tmp) > 0:\n",
    "        return tmp[0]\n",
    "    else:\n",
    "        return res[0]\n",
    "\n",
    "    \n",
    "def word2canonical(word):\n",
    "    return _word2canonical4w2v(word)[0]\n",
    "\n",
    "\n",
    "def getWords(text, filter_short_words=False):\n",
    "    if filter_short_words:\n",
    "        return filter(lambda x: len(x) > 3, re.findall(r'(?u)\\w+', text))\n",
    "    else:\n",
    "        return re.findall(r'(?u)\\w+', text)\n",
    "\n",
    "\n",
    "def text2canonicals(text, add_word=False, filter_short_words=True):\n",
    "    words = []\n",
    "    for word in getWords(text, filter_short_words = filter_short_words):\n",
    "            words.append(word2canonical(word.lower()))\n",
    "            if add_word:\n",
    "                    words.append(word.lower())\n",
    "    return words"
   ]
  },
  {
   "cell_type": "code",
   "execution_count": 3,
   "metadata": {
    "collapsed": false
   },
   "outputs": [],
   "source": [
    "from bs4 import BeautifulSoup\n",
    "\n",
    "def remove_tags(text):\n",
    "    soup = BeautifulSoup(text,'html.parser')\n",
    "    return soup.text\n",
    "\n",
    "def convert_text(text):\n",
    "    text = text2canonicals(remove_tags(text).lower())# убираем тэги и переводим в lower-case\n",
    "    return text\n",
    "\n",
    "def formatting(word):\n",
    "    index_ = word.find('_')\n",
    "    return word[:index_]"
   ]
  },
  {
   "cell_type": "code",
   "execution_count": 5,
   "metadata": {
    "collapsed": false
   },
   "outputs": [],
   "source": [
    "import pandas as pd\n",
    "import numpy as np\n",
    "data = pd.read_csv('Ponyland/headhunter_sallary.txt.proper.csv')\n",
    "data = data[data['salary:currency'] == 'RUR']\n",
    "data = data[((data['salary:to'] > 100) & (data['salary:to'] <  440000)) \n",
    "                & ((data['salary:from'] > 100) & (data['salary:to'] <  440000))]\n",
    "    "
   ]
  },
  {
   "cell_type": "code",
   "execution_count": 6,
   "metadata": {
    "collapsed": false
   },
   "outputs": [
    {
     "name": "stderr",
     "output_type": "stream",
     "text": [
      "100%|██████████| 161544/161544 [12:48<00:00, 210.19it/s]\n"
     ]
    }
   ],
   "source": [
    "texts = parallelization(convert_text,data.description.values,True)"
   ]
  },
  {
   "cell_type": "code",
   "execution_count": 7,
   "metadata": {
    "collapsed": false
   },
   "outputs": [],
   "source": [
    "texts = map(lambda x: ' '.join(x),texts) \n",
    "texts = map(lambda x: x.encode('utf8'), texts)"
   ]
  },
  {
   "cell_type": "code",
   "execution_count": 8,
   "metadata": {
    "collapsed": false
   },
   "outputs": [],
   "source": [
    "def get_mean_length(texts):\n",
    "    cnt = 0\n",
    "    \n",
    "    lengths = []\n",
    "    for text in texts:\n",
    "        lengths.append(len(text.split()))\n",
    "        cnt += 1\n",
    "    return lengths #sum(lengths)/float(cnt), max(lengths), min(lengths), "
   ]
  },
  {
   "cell_type": "code",
   "execution_count": 9,
   "metadata": {
    "collapsed": false,
    "scrolled": true
   },
   "outputs": [
    {
     "data": {
      "text/plain": [
       "<matplotlib.axes._subplots.AxesSubplot at 0x7fdadb53ad10>"
      ]
     },
     "execution_count": 9,
     "metadata": {},
     "output_type": "execute_result"
    },
    {
     "data": {
      "image/png": "[encoded data removed]",
      "text/plain": [
       "<matplotlib.figure.Figure at 0x7fdadcf046d0>"
      ]
     },
     "metadata": {},
     "output_type": "display_data"
    }
   ],
   "source": [
    "lengths = get_mean_length(texts)\n",
    "import matplotlib.pyplot as plt\n",
    "%matplotlib inline\n",
    "plt.axis((0,500,0,0.010))\n",
    "pd.Series(lengths).plot(kind ='kde')"
   ]
  },
  {
   "cell_type": "code",
   "execution_count": 10,
   "metadata": {
    "collapsed": false
   },
   "outputs": [],
   "source": [
    "from keras.preprocessing.text import Tokenizer\n",
    "tokenizer = Tokenizer(nb_words=200000)  \n",
    "tokenizer.fit_on_texts(texts)\n",
    "sequences = tokenizer.texts_to_sequences(texts) \n",
    "\n",
    "word_index = tokenizer.word_index\n"
   ]
  },
  {
   "cell_type": "code",
   "execution_count": 11,
   "metadata": {
    "collapsed": false
   },
   "outputs": [
    {
     "name": "stdout",
     "output_type": "stream",
     "text": [
      "петропаловка\n",
      "4445\n"
     ]
    }
   ],
   "source": [
    "print word_index.keys()[1210]\n",
    "print word_index['data']"
   ]
  },
  {
   "cell_type": "code",
   "execution_count": 12,
   "metadata": {
    "collapsed": false
   },
   "outputs": [],
   "source": [
    "from gensim import models\n",
    "\n",
    "model = models.Word2Vec.load_word2vec_format('Ponyland/ruwikiruscorpora.model.bin', binary=True)\n",
    "new_keys =  map(lambda x: formatting(x[0]), model.vocab.items())\n",
    "values = model.vocab.values()\n",
    "new_dict = dict(zip(new_keys, values))\n",
    "model.vocab = new_dict"
   ]
  },
  {
   "cell_type": "code",
   "execution_count": 13,
   "metadata": {
    "collapsed": true
   },
   "outputs": [
    {
     "name": "stdout",
     "output_type": "stream",
     "text": [
      "usiness\n",
      "mbizglobal\n",
      "габишева\n",
      "coreanimation\n",
      "дисциплиныорганизация\n",
      "мосжиларенда\n",
      "40часовая\n",
      "xunit\n",
      "экструзионна\n",
      "фаерволл\n",
      "project818\n",
      "аккуратнов\n",
      "kaspersky\n",
      "fancybox\n",
      "перепискиskype\n",
      "screaming\n",
      "близлежайший\n",
      "сеттуа\n",
      "kinnevik\n",
      "receiving\n",
      "rabbitmq\n",
      "заявокнаша\n",
      "шёлковый\n",
      "наш\n",
      "magneex\n",
      "feasibility\n",
      "фискас\n",
      "19970\n",
      "msmagazine\n",
      "sustaining\n",
      "мачуга\n",
      "срок0\n",
      "36700\n",
      "basegroup\n",
      "hairbeautyclub\n",
      "компанииподробность\n",
      "трёхмесячный\n",
      "документооборотаусловие\n",
      "азопиирамов\n",
      "сп䍕циальность\n",
      "designing\n",
      "17250\n",
      "cветотехник\n",
      "gmsite\n",
      "motorolla\n",
      "сталепромышленна\n",
      "сайтен\n",
      "оалтуфьево\n",
      "звёздочка\n",
      "tyllipad\n",
      "зазнаться\n",
      "эсмо\n",
      "рашау\n",
      "мониитооринг\n",
      "прособеседован\n",
      "golder\n",
      "низкомаржинальный\n",
      "санпина3\n",
      "наказать\n",
      "транспортазнание\n",
      "saifi\n",
      "пункт䐺льнocть\n",
      "туризмекто\n",
      "mesmerize\n",
      "exce\n",
      "сегметация\n",
      "мелкоузловая\n",
      "блогмама\n",
      "circumstances\n",
      "заказпереключение\n",
      "emmepilight\n",
      "13050\n",
      "cussons\n",
      "hyatt\n",
      "оп䎺䐪\n",
      "titanium\n",
      "мясырьё\n",
      "miele\n",
      "pinta\n",
      "котлопункт\n",
      "контрактинг\n",
      "cadency\n",
      "со䌞седование\n",
      "avfoundation\n",
      "actionscript\n",
      "essie\n",
      "филёнчатый\n",
      "ночьсмена\n",
      "докопаться\n",
      "23500\n",
      "oтpыв\n",
      "экскизов\n",
      "сластёна\n",
      "arderia\n",
      "диаконт\n",
      "мероприятияостальная\n",
      "dessange\n",
      "упак\n",
      "36000р\n",
      "василиостровский\n",
      "30494\n"
     ]
    }
   ],
   "source": [
    "cnt = 0\n",
    "embedding_matrix = np.zeros((len(word_index) + 1, 500)) # делаем веса для embedding-слоя \n",
    "\n",
    "# итереруемся по всем уникальным словам из наших текстов и их индексам, которые сделал токенайзер\n",
    "for word, i in word_index.items(): \n",
    "    try:\n",
    "        embedding_vector = model[word.decode('utf8')] # для слова берем те самые 100 значений из словаря\n",
    "        embedding_matrix[i] = embedding_vector\n",
    "  \n",
    "    except KeyError:\n",
    "        \n",
    "        cnt += 1\n",
    "        if cnt <= 100:\n",
    "            print word\n",
    "\n",
    "        continue\n",
    "\n",
    "print cnt"
   ]
  },
  {
   "cell_type": "code",
   "execution_count": 16,
   "metadata": {
    "collapsed": false
   },
   "outputs": [],
   "source": [
    "from DatasetCreation import *\n",
    "import pickle as pkl\n",
    "data, y = make_dataset('data_with_important_features.csv',True,x = False,y = True,chunks =20)\n",
    "\n",
    "x = pkl.load(open('Ponyland/X_text.pkl','rb'))"
   ]
  },
  {
   "cell_type": "code",
   "execution_count": 19,
   "metadata": {
    "collapsed": false
   },
   "outputs": [],
   "source": [
    "left_edge = np.mean(y)-3*np.std(y)\n",
    "right_edge = np.mean(y) + 3*np.std(y)"
   ]
  },
  {
   "cell_type": "code",
   "execution_count": null,
   "metadata": {
    "collapsed": true
   },
   "outputs": [],
   "source": [
    "pkl.dump(embedding_matrix,open('EMBEDDING.pkl', 'wb'))\n",
    "pkl.dump(tokenizer, open('TOKENIZER.pkl','wb'))"
   ]
  },
  {
   "cell_type": "markdown",
   "metadata": {},
   "source": [
    "# Сетка"
   ]
  },
  {
   "cell_type": "code",
   "execution_count": 20,
   "metadata": {
    "collapsed": false
   },
   "outputs": [
    {
     "name": "stdout",
     "output_type": "stream",
     "text": [
      "env: THEANO_FLAGS=\"device=gpu\"\n"
     ]
    },
    {
     "name": "stderr",
     "output_type": "stream",
     "text": [
      "Using gpu device 0: GeForce GTX TITAN X (CNMeM is enabled with initial size: 95.0% of memory, cuDNN 5105)\n"
     ]
    }
   ],
   "source": [
    "%env THEANO_FLAGS=\"device=gpu\"\n",
    "import theano"
   ]
  },
  {
   "cell_type": "code",
   "execution_count": 22,
   "metadata": {
    "collapsed": false
   },
   "outputs": [],
   "source": [
    "from sklearn.cross_validation import train_test_split"
   ]
  },
  {
   "cell_type": "code",
   "execution_count": 23,
   "metadata": {
    "collapsed": true
   },
   "outputs": [],
   "source": [
    "def apply_ohe(target):\n",
    "    nb_cl = max(target)+1\n",
    "    matrix = []\n",
    "\n",
    "    for i in range(len(target)):\n",
    "        mas = np.zeros(nb_cl)\n",
    "        index = target[i]\n",
    "\n",
    "        mas[index] = 1\n",
    "        matrix.append(mas)\n",
    "        \n",
    "    return np.array(matrix)"
   ]
  },
  {
   "cell_type": "code",
   "execution_count": 24,
   "metadata": {
    "collapsed": false
   },
   "outputs": [
    {
     "data": {
      "text/plain": [
       "{0: 0.90731936809785574,\n",
       " 1: 0.62860273362056152,\n",
       " 2: 0.74592061605506865,\n",
       " 3: 0.86522557321844207,\n",
       " 4: 0.93487223295201305,\n",
       " 5: 0.97486133808745601,\n",
       " 6: 0.96872678651017674,\n",
       " 7: 0.99822339424553064,\n",
       " 8: 0.99872480562571186,\n",
       " 9: 0.99327118308324669,\n",
       " 10: 0.9986443321943248,\n",
       " 11: 0.99640345664339125,\n",
       " 12: 0.99971524785816868,\n",
       " 13: 0.99075174565443469,\n",
       " 14: 0.99980810181746149,\n",
       " 15: 0.99961001337097011,\n",
       " 16: 0.99996285841628285,\n",
       " 17: 0.99995047788837721,\n",
       " 18: 0.99943049571633735,\n",
       " 19: 0.9999752389441886}"
      ]
     },
     "execution_count": 24,
     "metadata": {},
     "output_type": "execute_result"
    }
   ],
   "source": [
    "from collections import Counter\n",
    "\n",
    "length = float(data.shape[0]) \n",
    "weights = Counter()\n",
    "for cl in y:\n",
    "    weights[cl] += 1\n",
    "    \n",
    "values = np.array(weights.values())\n",
    "keys = np.array(weights.keys())\n",
    "\n",
    "new_values = 1 - values/length\n",
    "\n",
    "class_weights = dict(zip(keys, new_values))\n",
    "\n",
    "class_weights"
   ]
  },
  {
   "cell_type": "code",
   "execution_count": 25,
   "metadata": {
    "collapsed": true
   },
   "outputs": [],
   "source": [
    "y = apply_ohe(y)\n",
    "\n",
    "X_train, X_val, y_train, y_val = train_test_split(x,y,test_size=0.1,random_state=42)\n",
    "\n",
    "embedding_matrix = pkl.load(open('EMBEDDING.pkl','rb'))\n",
    "\n",
    "embedding_matrix.astype('float32')\n",
    "\n",
    "MAX_TEXT_LEN = 200\n",
    "W2VEC_SIZE = 500\n",
    "NUM_EMB_WORDS = embedding_matrix.shape[0]\n"
   ]
  },
  {
   "cell_type": "code",
   "execution_count": 27,
   "metadata": {
    "collapsed": false
   },
   "outputs": [],
   "source": [
    "from keras.models import Sequential,load_model\n",
    "from keras.layers import Dense,LSTM,Dropout\n",
    "from keras.layers import Conv1D\n",
    "from keras.layers.pooling import MaxPooling1D\n",
    "from keras.layers.embeddings import Embedding\n",
    "from sklearn.metrics import accuracy_score\n",
    "from keras.regularizers import l1l2\n",
    "\n",
    "model = Sequential()\n",
    "\n",
    "model.add(Embedding(NUM_EMB_WORDS, W2VEC_SIZE, input_length=MAX_TEXT_LEN, weights=[embedding_matrix]))\n",
    "\n",
    "model.add(Conv1D(64,3,activation='tanh'))\n",
    "model.add(MaxPooling1D(3))\n",
    "model.add(Conv1D(64,3,activation='tanh'))\n",
    "model.add(MaxPooling1D(3))\n",
    "\n",
    "\n",
    "model.add(LSTM(128, return_sequences=True,go_backwards=True,W_regularizer=l1l2(0.000005,0.000005),b_regularizer=l1l2(0.000005,0.000005)))\n",
    "model.add(Dropout(0.1))\n",
    "\n",
    "model.add(LSTM(128,W_regularizer=l1l2(0.000005,0.000005),b_regularizer=l1l2(0.000005,0.000005)))\n",
    "model.add(Dropout(0.1))\n",
    "\n",
    "model.add(Dense(20, activation='softmax'))\n",
    "\n",
    "model.compile(optimizer='rmsprop',\n",
    "              loss='categorical_crossentropy',\n",
    "              metrics=['accuracy'])\n"
   ]
  },
  {
   "cell_type": "code",
   "execution_count": null,
   "metadata": {
    "collapsed": true
   },
   "outputs": [],
   "source": [
    "model.fit(X_train,y_train,batch_size=512,nb_epoch=1,validation_data=[X_val,y_val],class_weight=class_weights)\n",
    "model.save_weights('Ponyland/weights0_64.h5')\n",
    "model.save('Ponyland/model0_64.h5')"
   ]
  },
  {
   "cell_type": "markdown",
   "metadata": {},
   "source": [
    "# Результаты"
   ]
  },
  {
   "cell_type": "code",
   "execution_count": 28,
   "metadata": {
    "collapsed": true
   },
   "outputs": [],
   "source": [
    "def get_true_classes(pred):\n",
    "    true_classes = []\n",
    "    for row in pred:\n",
    "        cl = np.zeros(20)\n",
    "        index_of_max = row.argmax()\n",
    "\n",
    "        cl[index_of_max] = 1\n",
    "\n",
    "        true_classes.append(cl)\n",
    "    true_classes = np.array(true_classes)\n",
    "    return true_classes"
   ]
  },
  {
   "cell_type": "code",
   "execution_count": 30,
   "metadata": {
    "collapsed": true
   },
   "outputs": [],
   "source": [
    "model.load_weights('Ponyland/weights0_64.h5')"
   ]
  },
  {
   "cell_type": "code",
   "execution_count": 31,
   "metadata": {
    "collapsed": false
   },
   "outputs": [
    {
     "name": "stdout",
     "output_type": "stream",
     "text": [
      "145389/145389 [==============================] - 125s   \n",
      "16155/16155 [==============================] - 14s    \n"
     ]
    }
   ],
   "source": [
    "train_pred = model.predict_proba(X_train)\n",
    "true_pred_train = get_true_classes(train_pred)\n",
    "\n",
    "test_pred = model.predict_proba(X_val)\n",
    "true_pred_test = get_true_classes(test_pred)"
   ]
  },
  {
   "cell_type": "code",
   "execution_count": 32,
   "metadata": {
    "collapsed": true
   },
   "outputs": [],
   "source": [
    "pkl.dump(train_pred, open('Ponyland/X_train_pred.pkl','wb'))\n",
    "pkl.dump(test_pred, open('Ponyland/X_test_pred.pkl','wb'))"
   ]
  },
  {
   "cell_type": "code",
   "execution_count": 33,
   "metadata": {
    "collapsed": false
   },
   "outputs": [
    {
     "data": {
      "text/html": [
       "<div>\n",
       "<table border=\"1\" class=\"dataframe\">\n",
       "  <thead>\n",
       "    <tr style=\"text-align: right;\">\n",
       "      <th></th>\n",
       "      <th>accuracy</th>\n",
       "    </tr>\n",
       "  </thead>\n",
       "  <tbody>\n",
       "    <tr>\n",
       "      <th>train</th>\n",
       "      <td>0.665607</td>\n",
       "    </tr>\n",
       "    <tr>\n",
       "      <th>test</th>\n",
       "      <td>0.642402</td>\n",
       "    </tr>\n",
       "  </tbody>\n",
       "</table>\n",
       "</div>"
      ],
      "text/plain": [
       "       accuracy\n",
       "train  0.665607\n",
       "test   0.642402"
      ]
     },
     "execution_count": 33,
     "metadata": {},
     "output_type": "execute_result"
    }
   ],
   "source": [
    "pd.DataFrame({'accuracy':[accuracy_score(y_train,true_pred_train),\n",
    "              accuracy_score(y_val,true_pred_test)]}, index=['train','test'])\n"
   ]
  },
  {
   "cell_type": "markdown",
   "metadata": {},
   "source": [
    "## Файлик, который можно импортить и быстро получать train и test сеты"
   ]
  },
  {
   "cell_type": "code",
   "execution_count": null,
   "metadata": {
    "collapsed": false
   },
   "outputs": [],
   "source": [
    "%%writefile DatasetCreation.py\n",
    "\n",
    "import pandas as pd\n",
    "import numpy as np\n",
    "from bs4 import BeautifulSoup\n",
    "from joblib import Parallel, delayed\n",
    "import re\n",
    "import pymorphy2\n",
    "import multiprocessing\n",
    "from tqdm import tqdm\n",
    "import pickle\n",
    "from keras.preprocessing.sequence import pad_sequences\n",
    "\n",
    "tokenizer = pickle.load(open('TOKENIZER.pkl','rb'))\n",
    "morph = pymorphy2.MorphAnalyzer()\n",
    "\n",
    "def _word2canonical4w2v(word):\n",
    "    elems =  morph.parse(word)\n",
    "    my_tag = ''\n",
    "    res = []\n",
    "    for elem in elems:\n",
    "            if 'VERB' in elem.tag or 'GRND' in elem.tag or 'INFN' in elem.tag:\n",
    "                    my_tag = 'V'\n",
    "            if 'NOUN' in elem.tag:\n",
    "                    my_tag = 'S'\n",
    "            normalised = elem.normalized.word\n",
    "            if my_tag == '':\n",
    "                    res.append((normalised, ''))\n",
    "            res.append((normalised, my_tag))\n",
    "    tmp = list(filter(lambda x: x[1] != '', res))\n",
    "    if len(tmp) > 0:\n",
    "        return tmp[0]\n",
    "    else:\n",
    "        return res[0]\n",
    "\n",
    "\n",
    "def word2canonical(word):\n",
    "    return  _word2canonical4w2v(word)[0]\n",
    "\n",
    "\n",
    "def getWords(text, filter_short_words=False):\n",
    "    if filter_short_words:\n",
    "        return filter(lambda x: len(x) > 3, re.findall(r'(?u)\\w+', text))\n",
    "    else:\n",
    "        return re.findall(r'(?u)\\w+', text)\n",
    "\n",
    "\n",
    "def text2canonicals(text, add_word=False, filter_short_words=True):\n",
    "    words = []\n",
    "    for word in getWords(text, filter_short_words = filter_short_words):\n",
    "        words.append(word2canonical(word.lower()))\n",
    "        if add_word:\n",
    "            words.append(word.lower())\n",
    "    return words\n",
    "\n",
    "\n",
    "def remove_tags(text):\n",
    "    soup = BeautifulSoup(text,'html.parser')\n",
    "    return soup.text\n",
    "\n",
    "\n",
    "def convert_text(text):\n",
    "    text = text2canonicals(remove_tags(text).lower())\n",
    "    return text\n",
    "\n",
    "\n",
    "def parallelization(massive,tq = True):    \n",
    "    num_cores = 20#multiprocessing.cpu_count()\n",
    "    if tq:\n",
    "        results = np.array(Parallel(n_jobs=num_cores)(delayed(convert_text)(i) for i in tqdm(massive)))\n",
    "        return results\n",
    "    else:\n",
    "        results = Parallel(n_jobs=num_cores)(delayed(convert_text)(i) for i in massive)\n",
    "        return results\n",
    "\n",
    "    \n",
    "def make_classes(y, nb_classes):\n",
    "    chunk_size = 440000/nb_classes\n",
    "    y = np.array(map(int,y))/chunk_size\n",
    "    return y    \n",
    "\n",
    "\n",
    "def make_dataset(path,df=True,x=False,y=False, chunks = False):\n",
    "    data = pd.read_csv(path,index_col=False)\n",
    "    data = data[data['salary:currency'] == 'RUR'] \n",
    "    data = data[((data['salary:to'] > 100) & (data['salary:to'] <  440000)) \n",
    "                & ((data['salary:from'] > 100) & (data['salary:to'] <  440000))]\n",
    "    \n",
    "    to_return = []\n",
    "    \n",
    "    if df == True:\n",
    "        to_return.append(data)\n",
    "    \n",
    "    if x == True:\n",
    "        texts = parallelization(data.description.values,True)\n",
    "        texts = map(lambda x: ' '.join(x),texts) \n",
    "        texts = map(lambda x: x.encode('utf8'), texts)\n",
    "\n",
    "        sequences = tokenizer.texts_to_sequences(texts) \n",
    "        X = pad_sequences(sequences, maxlen=200) \n",
    "        to_return.append(X)\n",
    "\n",
    "\n",
    "    if y == True:\n",
    "        sal_to = data['salary:to']; sal_from = data['salary:from']\n",
    "        Y = np.array([max(sal_to.iloc[i],sal_from.iloc[i]) for i in range(len(sal_to))])\n",
    "        \n",
    "        if chunks != False:\n",
    "            Y = make_classes(Y,chunks)\n",
    "            \n",
    "        to_return.append(Y)\n",
    "        \n",
    "\n",
    "    return tuple(to_return)\n"
   ]
  }
 ],
 "metadata": {
  "anaconda-cloud": {},
  "kernelspec": {
   "display_name": "Python [conda env:py27]",
   "language": "python",
   "name": "conda-env-py27-py"
  },
  "language_info": {
   "codemirror_mode": {
    "name": "ipython",
    "version": 2
   },
   "file_extension": ".py",
   "mimetype": "text/x-python",
   "name": "python",
   "nbconvert_exporter": "python",
   "pygments_lexer": "ipython2",
   "version": "2.7.12"
  }
 },
 "nbformat": 4,
 "nbformat_minor": 1
}
